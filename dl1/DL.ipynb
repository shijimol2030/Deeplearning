{
  "nbformat": 4,
  "nbformat_minor": 0,
  "metadata": {
    "colab": {
      "provenance": []
    },
    "kernelspec": {
      "name": "python3",
      "display_name": "Python 3"
    },
    "language_info": {
      "name": "python"
    }
  },
  "cells": [
    {
      "cell_type": "code",
      "execution_count": null,
      "metadata": {
        "colab": {
          "base_uri": "https://localhost:8080/"
        },
        "id": "qpL16OslLO5Y",
        "outputId": "03f9fbb7-076e-45de-c07e-9d5369f628ec"
      },
      "outputs": [
        {
          "output_type": "stream",
          "name": "stdout",
          "text": [
            "tf.Tensor(\n",
            "[[1 2]\n",
            " [3 4]], shape=(2, 2), dtype=int32)\n"
          ]
        }
      ],
      "source": [
        "import tensorflow as tf\n",
        "#creating a constant tensor\n",
        "a=tf.constant([[1,2],[3,4]])\n",
        "print(a)\n",
        "\n"
      ]
    },
    {
      "cell_type": "code",
      "source": [
        "#creating a tensor withall zeros\n",
        "b=tf.zeros([3,4])\n",
        "print(b)"
      ],
      "metadata": {
        "colab": {
          "base_uri": "https://localhost:8080/"
        },
        "id": "vAp3FNi1NjQG",
        "outputId": "d66c08f0-a33b-43ba-ae6d-fc433ac2ef81"
      },
      "execution_count": null,
      "outputs": [
        {
          "output_type": "stream",
          "name": "stdout",
          "text": [
            "tf.Tensor(\n",
            "[[0. 0. 0. 0.]\n",
            " [0. 0. 0. 0.]\n",
            " [0. 0. 0. 0.]], shape=(3, 4), dtype=float32)\n"
          ]
        }
      ]
    },
    {
      "cell_type": "code",
      "source": [
        "#creating a tensor with all ones\n",
        "c=tf.ones([2,3])\n",
        "print(c)"
      ],
      "metadata": {
        "colab": {
          "base_uri": "https://localhost:8080/"
        },
        "id": "_2kealIaN_9D",
        "outputId": "eaf102fe-cea8-4f14-d7ab-acba7d59871b"
      },
      "execution_count": null,
      "outputs": [
        {
          "output_type": "stream",
          "name": "stdout",
          "text": [
            "tf.Tensor(\n",
            "[[1. 1. 1.]\n",
            " [1. 1. 1.]], shape=(2, 3), dtype=float32)\n"
          ]
        }
      ]
    },
    {
      "cell_type": "code",
      "source": [
        "#create constant tensors\n",
        "a=tf.constant(2)\n",
        "b=tf.constant(3)\n",
        "print('Tensor a:',a)\n",
        "print('Tensor b:',b)"
      ],
      "metadata": {
        "colab": {
          "base_uri": "https://localhost:8080/"
        },
        "id": "p8wISlyKOpFo",
        "outputId": "8234cada-7bf8-4693-ea36-55206af1b1cc"
      },
      "execution_count": null,
      "outputs": [
        {
          "output_type": "stream",
          "name": "stdout",
          "text": [
            "Tensor a: tf.Tensor(2, shape=(), dtype=int32)\n",
            "Tensor b: tf.Tensor(3, shape=(), dtype=int32)\n"
          ]
        }
      ]
    },
    {
      "cell_type": "code",
      "source": [
        "#add 2 tensors\n",
        "c=tf.add(9,7)\n",
        "print('Addition:',c)"
      ],
      "metadata": {
        "colab": {
          "base_uri": "https://localhost:8080/"
        },
        "id": "22l2D1YCQLUa",
        "outputId": "b41ec2fd-2b4a-408e-91bc-ef9ae248843e"
      },
      "execution_count": null,
      "outputs": [
        {
          "output_type": "stream",
          "name": "stdout",
          "text": [
            "Addition: tf.Tensor(16, shape=(), dtype=int32)\n"
          ]
        }
      ]
    },
    {
      "cell_type": "code",
      "source": [
        "#multiply 2 tensors\n",
        "p=tf.multiply(9,7)\n",
        "print('Multiplication:',p)"
      ],
      "metadata": {
        "colab": {
          "base_uri": "https://localhost:8080/"
        },
        "id": "zZBx7hQPQ3A_",
        "outputId": "f360ed20-981f-40bb-fc43-f300f5ac0ea1"
      },
      "execution_count": null,
      "outputs": [
        {
          "output_type": "stream",
          "name": "stdout",
          "text": [
            "Multiplication: tf.Tensor(63, shape=(), dtype=int32)\n"
          ]
        }
      ]
    },
    {
      "cell_type": "code",
      "source": [
        "#divide 2 tensors\n",
        "d=tf.divide(9,7)\n",
        "print('Division:',d)"
      ],
      "metadata": {
        "colab": {
          "base_uri": "https://localhost:8080/"
        },
        "id": "NH_Eb6E7R51o",
        "outputId": "f28d350c-3ad7-4bb7-9b6a-996dd50b1e9b"
      },
      "execution_count": null,
      "outputs": [
        {
          "output_type": "stream",
          "name": "stdout",
          "text": [
            "Division: tf.Tensor(1.2857142857142858, shape=(), dtype=float64)\n"
          ]
        }
      ]
    },
    {
      "cell_type": "code",
      "source": [
        "#matrix multiplication\n",
        "#create 2D matrices\n",
        "\n",
        "matrix1= tf.constant([[1,2],[3,4]])\n",
        "matrix2= tf.constant([[5,6],[7,8]])\n",
        "matrix_product=tf.matmul(matrix1,matrix2)\n",
        "print('matrix multiplication:\\n',matrix_product)"
      ],
      "metadata": {
        "colab": {
          "base_uri": "https://localhost:8080/"
        },
        "id": "8TATeHV0ScsR",
        "outputId": "fcd54290-b9b4-4066-844a-98f48aa79e8b"
      },
      "execution_count": null,
      "outputs": [
        {
          "output_type": "stream",
          "name": "stdout",
          "text": [
            "matrix multiplication:\n",
            " tf.Tensor(\n",
            "[[19 22]\n",
            " [43 50]], shape=(2, 2), dtype=int32)\n"
          ]
        }
      ]
    },
    {
      "cell_type": "code",
      "source": [
        "#create a variable\n",
        "x=tf.Variable(5.0)\n",
        "#Add to the variable\n",
        "x.assign_add(12.0)\n",
        "print('Updated variable:',x)\n"
      ],
      "metadata": {
        "colab": {
          "base_uri": "https://localhost:8080/"
        },
        "id": "lcQ_skuNUXOc",
        "outputId": "3dd9fd64-4c9b-49de-c49b-2c46ebfb76d9"
      },
      "execution_count": null,
      "outputs": [
        {
          "output_type": "stream",
          "name": "stdout",
          "text": [
            "Updated variable: <tf.Variable 'Variable:0' shape=() dtype=float32, numpy=17.0>\n"
          ]
        }
      ]
    },
    {
      "cell_type": "code",
      "source": [
        "#create a variable\n",
        "x=tf.Variable(10.0)\n",
        "#Define a function\n",
        "with tf.GradientTape() as tape:\n",
        "\n",
        "  y=x**2\n",
        "dy_dx=tape.gradient(y,x)\n",
        "print('Gradient of y with respect to x:',dy_dx)"
      ],
      "metadata": {
        "colab": {
          "base_uri": "https://localhost:8080/"
        },
        "id": "KSFD4BHnZOlc",
        "outputId": "6864742c-7d5b-40cf-f974-ccfd34f58850"
      },
      "execution_count": null,
      "outputs": [
        {
          "output_type": "stream",
          "name": "stdout",
          "text": [
            "Gradient of y with respect to x: tf.Tensor(20.0, shape=(), dtype=float32)\n"
          ]
        }
      ]
    },
    {
      "cell_type": "markdown",
      "source": [
        "##"
      ],
      "metadata": {
        "id": "EGlOgvgzYA_d"
      }
    },
    {
      "cell_type": "code",
      "source": [
        "a=tf.constant([1,2,3])\n",
        "b=tf.constant(10)\n",
        "\n",
        "#Add using broadcasting\n",
        "result=tf.add(a,b)\n",
        "print('Broadcasing addition:',result)"
      ],
      "metadata": {
        "colab": {
          "base_uri": "https://localhost:8080/"
        },
        "id": "LyIePXFncUgL",
        "outputId": "3cf315c3-aa32-434f-fbf8-1feae5f607ad"
      },
      "execution_count": null,
      "outputs": [
        {
          "output_type": "stream",
          "name": "stdout",
          "text": [
            "Broadcasing addition: tf.Tensor([11 12 13], shape=(3,), dtype=int32)\n"
          ]
        }
      ]
    },
    {
      "cell_type": "code",
      "source": [
        "#create a tensor\n",
        "tensor=tf.constant([[1,2,3],[4,5,6]])\n",
        "#sum of all elements\n",
        "sum_all=tf.reduce_sum(tensor)\n",
        "print('sum of all elements:',sum_all)"
      ],
      "metadata": {
        "colab": {
          "base_uri": "https://localhost:8080/"
        },
        "id": "gS4301AZdZ9w",
        "outputId": "240ca971-f0c4-41c8-a519-4f9712e49e6b"
      },
      "execution_count": null,
      "outputs": [
        {
          "output_type": "stream",
          "name": "stdout",
          "text": [
            "sum of all elements: tf.Tensor(21, shape=(), dtype=int32)\n"
          ]
        }
      ]
    },
    {
      "cell_type": "code",
      "source": [
        "# sum along an axis\n",
        "sum_axis_0 = tf.reduce_sum(tensor,axis=0)\n",
        "print('sum along axis 0:', sum_axis_0)"
      ],
      "metadata": {
        "colab": {
          "base_uri": "https://localhost:8080/"
        },
        "id": "_2s7AlbufDPD",
        "outputId": "72cd46cd-1269-4a91-c16a-8d0088fc3727"
      },
      "execution_count": null,
      "outputs": [
        {
          "output_type": "stream",
          "name": "stdout",
          "text": [
            "sum along axis 0: tf.Tensor([5 7 9], shape=(3,), dtype=int32)\n"
          ]
        }
      ]
    },
    {
      "cell_type": "code",
      "source": [
        "#reshape tensor\n",
        "reshaped_tensor =tf.reshape(tensor,[3,2])\n",
        "print('Reshaped Tensor:\\n',reshaped_tensor)"
      ],
      "metadata": {
        "colab": {
          "base_uri": "https://localhost:8080/"
        },
        "id": "qf1DiJjkhMiO",
        "outputId": "88048872-e3ae-4008-88a1-f8786754522b"
      },
      "execution_count": null,
      "outputs": [
        {
          "output_type": "stream",
          "name": "stdout",
          "text": [
            "Reshaped Tensor:\n",
            " tf.Tensor(\n",
            "[[1 2]\n",
            " [3 4]\n",
            " [5 6]], shape=(3, 2), dtype=int32)\n"
          ]
        }
      ]
    },
    {
      "cell_type": "code",
      "source": [
        "transposed_tensor =tf.transpose(tensor)\n",
        "print('Transposed tensor:\\n',transposed_tensor)"
      ],
      "metadata": {
        "colab": {
          "base_uri": "https://localhost:8080/"
        },
        "id": "PIxSrbwQiCRw",
        "outputId": "929bede8-6359-479f-8324-96d062549079"
      },
      "execution_count": null,
      "outputs": [
        {
          "output_type": "stream",
          "name": "stdout",
          "text": [
            "Transposed tensor:\n",
            " tf.Tensor(\n",
            "[[1 4]\n",
            " [2 5]\n",
            " [3 6]], shape=(3, 2), dtype=int32)\n"
          ]
        }
      ]
    },
    {
      "cell_type": "code",
      "source": [
        "squared= tf.pow(tensor,2)\n",
        "\n",
        "print('Element wise power:\\n',squared)"
      ],
      "metadata": {
        "colab": {
          "base_uri": "https://localhost:8080/"
        },
        "id": "cHHGgs6Dlo6-",
        "outputId": "c2bd519f-daef-4063-d0f0-d14656f72f0e"
      },
      "execution_count": null,
      "outputs": [
        {
          "output_type": "stream",
          "name": "stdout",
          "text": [
            "Element wise power:\n",
            " tf.Tensor(\n",
            "[[ 1  4  9]\n",
            " [16 25 36]], shape=(2, 3), dtype=int32)\n"
          ]
        }
      ]
    },
    {
      "cell_type": "code",
      "source": [
        "import numpy as np\n",
        "import tensorflow as tf\n",
        "#create a Numpy array\n",
        "numpy_array=np.array([[1,3],[3,4]])\n",
        "#convert the Numpy array to a tensorflow tensor\n",
        "tensor=tf.convert_to_tensor(numpy_array,dtype=tf.float32)\n",
        "#perform tensorflow operation on the tensor\n",
        "result=tf.matmul(tensor,tensor)\n",
        "print('original numpy array:\\n',numpy_array)\n",
        "print('converted tensor flow tensor:\\n ',tensor)\n",
        "print('Matrix multiplication result:\\n',result)\n",
        "#convert the result tensor back to a numpy array\n",
        "numpy_result=result.numpy()\n",
        "print('converted back to Numpy:\\n',numpy_result)"
      ],
      "metadata": {
        "id": "4Xm-1lG2mwYV",
        "colab": {
          "base_uri": "https://localhost:8080/"
        },
        "outputId": "77501b9b-6227-4e48-9e31-349125cf6819"
      },
      "execution_count": 3,
      "outputs": [
        {
          "output_type": "stream",
          "name": "stdout",
          "text": [
            "original numpy array:\n",
            " [[1 3]\n",
            " [3 4]]\n",
            "converted tensor flow tensor:\n",
            "  tf.Tensor(\n",
            "[[1. 3.]\n",
            " [3. 4.]], shape=(2, 2), dtype=float32)\n",
            "Matrix multiplication result:\n",
            " tf.Tensor(\n",
            "[[10. 15.]\n",
            " [15. 25.]], shape=(2, 2), dtype=float32)\n",
            "converted back to Numpy:\n",
            " [[10. 15.]\n",
            " [15. 25.]]\n"
          ]
        }
      ]
    },
    {
      "cell_type": "code",
      "source": [
        "import numpy as np\n",
        "from tensorflow.keras import layers, models\n",
        "# generate the dataset for addition\n",
        "\n",
        "#create two random numbers as inputs and their sum as the target\n",
        "def generate_addition_data(samples=10000):\n",
        "  x1=np.random.randint(0,100,size=(samples,))\n",
        "  x2=np.random.randint(0,100,size=(samples,))\n",
        "  y=x1=x2\n",
        "  return np.column_stack((x1,x2)),y\n",
        "#generate training and testing date\n",
        "x_train,y_train = generate_addition_data(10000)\n",
        "x_test,y_test = generate_addition_data(1000)\n",
        "  #Build the neural network model\n",
        "model=models.Sequential()\n",
        "  #input layer:takes 2 input values (x1,x2)\n",
        "model.add(layers.Dense(64,activation='relu',input_shape=(2,)))\n",
        "  #hidden layer\n",
        "model.add(layers.Dense(64,activation='relu'))\n",
        "  #output layer:predicts a single value(the sum)\n",
        "model.add(layers.Dense(1))\n",
        "  #compile the model\n",
        "model.compile(optimizer='adam',loss='mean_squared_error')\n",
        "  #train the model\n",
        "model.fit(x_train,y_train,epochs=50,batch_size=32,validation_split=0.2)\n",
        "  #evalute the model\n",
        "test_loss = model.evaluate(x_test,y_test)\n",
        "  #test the model with new data\n",
        "test_data =np.array([[10,20],[50,60],[23,45]])\n",
        "predictions= model.predict(test_data)\n",
        "print('test  data:',test_data)"
      ],
      "metadata": {
        "colab": {
          "base_uri": "https://localhost:8080/"
        },
        "id": "eO5vD65gxpxy",
        "outputId": "dac773cf-c3f3-4874-fe4d-b777ba47adac"
      },
      "execution_count": 13,
      "outputs": [
        {
          "output_type": "stream",
          "name": "stdout",
          "text": [
            "Epoch 1/50\n"
          ]
        },
        {
          "output_type": "stream",
          "name": "stderr",
          "text": [
            "/usr/local/lib/python3.11/dist-packages/keras/src/layers/core/dense.py:87: UserWarning: Do not pass an `input_shape`/`input_dim` argument to a layer. When using Sequential models, prefer using an `Input(shape)` object as the first layer in the model instead.\n",
            "  super().__init__(activity_regularizer=activity_regularizer, **kwargs)\n"
          ]
        },
        {
          "output_type": "stream",
          "name": "stdout",
          "text": [
            "\u001b[1m250/250\u001b[0m \u001b[32m━━━━━━━━━━━━━━━━━━━━\u001b[0m\u001b[37m\u001b[0m \u001b[1m2s\u001b[0m 3ms/step - loss: 588.7043 - val_loss: 0.0101\n",
            "Epoch 2/50\n",
            "\u001b[1m250/250\u001b[0m \u001b[32m━━━━━━━━━━━━━━━━━━━━\u001b[0m\u001b[37m\u001b[0m \u001b[1m1s\u001b[0m 2ms/step - loss: 0.0097 - val_loss: 0.0079\n",
            "Epoch 3/50\n",
            "\u001b[1m250/250\u001b[0m \u001b[32m━━━━━━━━━━━━━━━━━━━━\u001b[0m\u001b[37m\u001b[0m \u001b[1m1s\u001b[0m 3ms/step - loss: 0.0069 - val_loss: 1.3849e-04\n",
            "Epoch 4/50\n",
            "\u001b[1m250/250\u001b[0m \u001b[32m━━━━━━━━━━━━━━━━━━━━\u001b[0m\u001b[37m\u001b[0m \u001b[1m1s\u001b[0m 4ms/step - loss: 3.8993e-05 - val_loss: 2.1356e-05\n",
            "Epoch 5/50\n",
            "\u001b[1m250/250\u001b[0m \u001b[32m━━━━━━━━━━━━━━━━━━━━\u001b[0m\u001b[37m\u001b[0m \u001b[1m1s\u001b[0m 3ms/step - loss: 5.6527e-05 - val_loss: 5.8535e-05\n",
            "Epoch 6/50\n",
            "\u001b[1m250/250\u001b[0m \u001b[32m━━━━━━━━━━━━━━━━━━━━\u001b[0m\u001b[37m\u001b[0m \u001b[1m1s\u001b[0m 2ms/step - loss: 3.4787e-05 - val_loss: 1.7951e-05\n",
            "Epoch 7/50\n",
            "\u001b[1m250/250\u001b[0m \u001b[32m━━━━━━━━━━━━━━━━━━━━\u001b[0m\u001b[37m\u001b[0m \u001b[1m1s\u001b[0m 2ms/step - loss: 1.9947e-04 - val_loss: 1.3107e-05\n",
            "Epoch 8/50\n",
            "\u001b[1m250/250\u001b[0m \u001b[32m━━━━━━━━━━━━━━━━━━━━\u001b[0m\u001b[37m\u001b[0m \u001b[1m1s\u001b[0m 2ms/step - loss: 1.0751e-05 - val_loss: 3.9456e-06\n",
            "Epoch 9/50\n",
            "\u001b[1m250/250\u001b[0m \u001b[32m━━━━━━━━━━━━━━━━━━━━\u001b[0m\u001b[37m\u001b[0m \u001b[1m1s\u001b[0m 2ms/step - loss: 3.0688e-04 - val_loss: 1.2034e-04\n",
            "Epoch 10/50\n",
            "\u001b[1m250/250\u001b[0m \u001b[32m━━━━━━━━━━━━━━━━━━━━\u001b[0m\u001b[37m\u001b[0m \u001b[1m1s\u001b[0m 2ms/step - loss: 2.7395e-05 - val_loss: 1.5899e-06\n",
            "Epoch 11/50\n",
            "\u001b[1m250/250\u001b[0m \u001b[32m━━━━━━━━━━━━━━━━━━━━\u001b[0m\u001b[37m\u001b[0m \u001b[1m1s\u001b[0m 2ms/step - loss: 1.1930e-06 - val_loss: 1.2649e-06\n",
            "Epoch 12/50\n",
            "\u001b[1m250/250\u001b[0m \u001b[32m━━━━━━━━━━━━━━━━━━━━\u001b[0m\u001b[37m\u001b[0m \u001b[1m1s\u001b[0m 2ms/step - loss: 1.1752e-06 - val_loss: 8.1076e-07\n",
            "Epoch 13/50\n",
            "\u001b[1m250/250\u001b[0m \u001b[32m━━━━━━━━━━━━━━━━━━━━\u001b[0m\u001b[37m\u001b[0m \u001b[1m1s\u001b[0m 2ms/step - loss: 5.2456e-05 - val_loss: 1.4323e-06\n",
            "Epoch 14/50\n",
            "\u001b[1m250/250\u001b[0m \u001b[32m━━━━━━━━━━━━━━━━━━━━\u001b[0m\u001b[37m\u001b[0m \u001b[1m1s\u001b[0m 2ms/step - loss: 2.4556e-04 - val_loss: 3.3243e-07\n",
            "Epoch 15/50\n",
            "\u001b[1m250/250\u001b[0m \u001b[32m━━━━━━━━━━━━━━━━━━━━\u001b[0m\u001b[37m\u001b[0m \u001b[1m1s\u001b[0m 2ms/step - loss: 2.3633e-07 - val_loss: 2.3021e-07\n",
            "Epoch 16/50\n",
            "\u001b[1m250/250\u001b[0m \u001b[32m━━━━━━━━━━━━━━━━━━━━\u001b[0m\u001b[37m\u001b[0m \u001b[1m1s\u001b[0m 2ms/step - loss: 6.8248e-07 - val_loss: 1.3703e-05\n",
            "Epoch 17/50\n",
            "\u001b[1m250/250\u001b[0m \u001b[32m━━━━━━━━━━━━━━━━━━━━\u001b[0m\u001b[37m\u001b[0m \u001b[1m2s\u001b[0m 4ms/step - loss: 8.8000e-04 - val_loss: 1.8888e-07\n",
            "Epoch 18/50\n",
            "\u001b[1m250/250\u001b[0m \u001b[32m━━━━━━━━━━━━━━━━━━━━\u001b[0m\u001b[37m\u001b[0m \u001b[1m1s\u001b[0m 4ms/step - loss: 1.4177e-07 - val_loss: 1.1513e-07\n",
            "Epoch 19/50\n",
            "\u001b[1m250/250\u001b[0m \u001b[32m━━━━━━━━━━━━━━━━━━━━\u001b[0m\u001b[37m\u001b[0m \u001b[1m1s\u001b[0m 2ms/step - loss: 9.2926e-08 - val_loss: 6.9915e-08\n",
            "Epoch 20/50\n",
            "\u001b[1m250/250\u001b[0m \u001b[32m━━━━━━━━━━━━━━━━━━━━\u001b[0m\u001b[37m\u001b[0m \u001b[1m1s\u001b[0m 2ms/step - loss: 5.6114e-08 - val_loss: 5.2078e-08\n",
            "Epoch 21/50\n",
            "\u001b[1m250/250\u001b[0m \u001b[32m━━━━━━━━━━━━━━━━━━━━\u001b[0m\u001b[37m\u001b[0m \u001b[1m1s\u001b[0m 3ms/step - loss: 5.2789e-08 - val_loss: 3.1986e-08\n",
            "Epoch 22/50\n",
            "\u001b[1m250/250\u001b[0m \u001b[32m━━━━━━━━━━━━━━━━━━━━\u001b[0m\u001b[37m\u001b[0m \u001b[1m1s\u001b[0m 2ms/step - loss: 2.3984e-07 - val_loss: 2.0227e-08\n",
            "Epoch 23/50\n",
            "\u001b[1m250/250\u001b[0m \u001b[32m━━━━━━━━━━━━━━━━━━━━\u001b[0m\u001b[37m\u001b[0m \u001b[1m1s\u001b[0m 2ms/step - loss: 1.5461e-04 - val_loss: 1.0670e-04\n",
            "Epoch 24/50\n",
            "\u001b[1m250/250\u001b[0m \u001b[32m━━━━━━━━━━━━━━━━━━━━\u001b[0m\u001b[37m\u001b[0m \u001b[1m1s\u001b[0m 2ms/step - loss: 0.0074 - val_loss: 3.6044e-07\n",
            "Epoch 25/50\n",
            "\u001b[1m250/250\u001b[0m \u001b[32m━━━━━━━━━━━━━━━━━━━━\u001b[0m\u001b[37m\u001b[0m \u001b[1m1s\u001b[0m 2ms/step - loss: 2.5231e-07 - val_loss: 1.2930e-07\n",
            "Epoch 26/50\n",
            "\u001b[1m250/250\u001b[0m \u001b[32m━━━━━━━━━━━━━━━━━━━━\u001b[0m\u001b[37m\u001b[0m \u001b[1m1s\u001b[0m 2ms/step - loss: 1.1715e-07 - val_loss: 8.7178e-08\n",
            "Epoch 27/50\n",
            "\u001b[1m250/250\u001b[0m \u001b[32m━━━━━━━━━━━━━━━━━━━━\u001b[0m\u001b[37m\u001b[0m \u001b[1m1s\u001b[0m 2ms/step - loss: 7.1163e-08 - val_loss: 6.5671e-08\n",
            "Epoch 28/50\n",
            "\u001b[1m250/250\u001b[0m \u001b[32m━━━━━━━━━━━━━━━━━━━━\u001b[0m\u001b[37m\u001b[0m \u001b[1m1s\u001b[0m 2ms/step - loss: 6.5483e-08 - val_loss: 4.9434e-08\n",
            "Epoch 29/50\n",
            "\u001b[1m250/250\u001b[0m \u001b[32m━━━━━━━━━━━━━━━━━━━━\u001b[0m\u001b[37m\u001b[0m \u001b[1m1s\u001b[0m 2ms/step - loss: 4.8844e-08 - val_loss: 2.1569e-06\n",
            "Epoch 30/50\n",
            "\u001b[1m250/250\u001b[0m \u001b[32m━━━━━━━━━━━━━━━━━━━━\u001b[0m\u001b[37m\u001b[0m \u001b[1m1s\u001b[0m 2ms/step - loss: 0.0018 - val_loss: 2.0436e-05\n",
            "Epoch 31/50\n",
            "\u001b[1m250/250\u001b[0m \u001b[32m━━━━━━━━━━━━━━━━━━━━\u001b[0m\u001b[37m\u001b[0m \u001b[1m1s\u001b[0m 2ms/step - loss: 2.4597e-04 - val_loss: 6.2027e-08\n",
            "Epoch 32/50\n",
            "\u001b[1m250/250\u001b[0m \u001b[32m━━━━━━━━━━━━━━━━━━━━\u001b[0m\u001b[37m\u001b[0m \u001b[1m2s\u001b[0m 4ms/step - loss: 5.9679e-08 - val_loss: 3.7897e-08\n",
            "Epoch 33/50\n",
            "\u001b[1m250/250\u001b[0m \u001b[32m━━━━━━━━━━━━━━━━━━━━\u001b[0m\u001b[37m\u001b[0m \u001b[1m1s\u001b[0m 4ms/step - loss: 8.8747e-08 - val_loss: 2.3424e-08\n",
            "Epoch 34/50\n",
            "\u001b[1m250/250\u001b[0m \u001b[32m━━━━━━━━━━━━━━━━━━━━\u001b[0m\u001b[37m\u001b[0m \u001b[1m1s\u001b[0m 2ms/step - loss: 0.0075 - val_loss: 0.0557\n",
            "Epoch 35/50\n",
            "\u001b[1m250/250\u001b[0m \u001b[32m━━━━━━━━━━━━━━━━━━━━\u001b[0m\u001b[37m\u001b[0m \u001b[1m1s\u001b[0m 2ms/step - loss: 0.0057 - val_loss: 2.0186e-07\n",
            "Epoch 36/50\n",
            "\u001b[1m250/250\u001b[0m \u001b[32m━━━━━━━━━━━━━━━━━━━━\u001b[0m\u001b[37m\u001b[0m \u001b[1m1s\u001b[0m 2ms/step - loss: 1.2644e-07 - val_loss: 5.2672e-08\n",
            "Epoch 37/50\n",
            "\u001b[1m250/250\u001b[0m \u001b[32m━━━━━━━━━━━━━━━━━━━━\u001b[0m\u001b[37m\u001b[0m \u001b[1m1s\u001b[0m 2ms/step - loss: 4.6970e-08 - val_loss: 2.3677e-08\n",
            "Epoch 38/50\n",
            "\u001b[1m250/250\u001b[0m \u001b[32m━━━━━━━━━━━━━━━━━━━━\u001b[0m\u001b[37m\u001b[0m \u001b[1m1s\u001b[0m 2ms/step - loss: 5.3525e-05 - val_loss: 9.2869e-04\n",
            "Epoch 39/50\n",
            "\u001b[1m250/250\u001b[0m \u001b[32m━━━━━━━━━━━━━━━━━━━━\u001b[0m\u001b[37m\u001b[0m \u001b[1m1s\u001b[0m 2ms/step - loss: 0.0864 - val_loss: 1.1405e-04\n",
            "Epoch 40/50\n",
            "\u001b[1m250/250\u001b[0m \u001b[32m━━━━━━━━━━━━━━━━━━━━\u001b[0m\u001b[37m\u001b[0m \u001b[1m1s\u001b[0m 2ms/step - loss: 1.2237e-04 - val_loss: 9.0171e-05\n",
            "Epoch 41/50\n",
            "\u001b[1m250/250\u001b[0m \u001b[32m━━━━━━━━━━━━━━━━━━━━\u001b[0m\u001b[37m\u001b[0m \u001b[1m1s\u001b[0m 2ms/step - loss: 1.1579e-04 - val_loss: 9.7707e-05\n",
            "Epoch 42/50\n",
            "\u001b[1m250/250\u001b[0m \u001b[32m━━━━━━━━━━━━━━━━━━━━\u001b[0m\u001b[37m\u001b[0m \u001b[1m1s\u001b[0m 2ms/step - loss: 1.1833e-04 - val_loss: 1.2827e-04\n",
            "Epoch 43/50\n",
            "\u001b[1m250/250\u001b[0m \u001b[32m━━━━━━━━━━━━━━━━━━━━\u001b[0m\u001b[37m\u001b[0m \u001b[1m1s\u001b[0m 2ms/step - loss: 7.5265e-05 - val_loss: 1.4289e-04\n",
            "Epoch 44/50\n",
            "\u001b[1m250/250\u001b[0m \u001b[32m━━━━━━━━━━━━━━━━━━━━\u001b[0m\u001b[37m\u001b[0m \u001b[1m1s\u001b[0m 2ms/step - loss: 0.0033 - val_loss: 0.0034\n",
            "Epoch 45/50\n",
            "\u001b[1m250/250\u001b[0m \u001b[32m━━━━━━━━━━━━━━━━━━━━\u001b[0m\u001b[37m\u001b[0m \u001b[1m1s\u001b[0m 2ms/step - loss: 0.0080 - val_loss: 4.6696e-05\n",
            "Epoch 46/50\n",
            "\u001b[1m250/250\u001b[0m \u001b[32m━━━━━━━━━━━━━━━━━━━━\u001b[0m\u001b[37m\u001b[0m \u001b[1m1s\u001b[0m 3ms/step - loss: 0.0057 - val_loss: 0.0146\n",
            "Epoch 47/50\n",
            "\u001b[1m250/250\u001b[0m \u001b[32m━━━━━━━━━━━━━━━━━━━━\u001b[0m\u001b[37m\u001b[0m \u001b[1m2s\u001b[0m 4ms/step - loss: 0.0032 - val_loss: 3.8972e-05\n",
            "Epoch 48/50\n",
            "\u001b[1m250/250\u001b[0m \u001b[32m━━━━━━━━━━━━━━━━━━━━\u001b[0m\u001b[37m\u001b[0m \u001b[1m1s\u001b[0m 3ms/step - loss: 4.8210e-05 - val_loss: 1.7537e-04\n",
            "Epoch 49/50\n",
            "\u001b[1m250/250\u001b[0m \u001b[32m━━━━━━━━━━━━━━━━━━━━\u001b[0m\u001b[37m\u001b[0m \u001b[1m1s\u001b[0m 2ms/step - loss: 0.0047 - val_loss: 1.1856e-04\n",
            "Epoch 50/50\n",
            "\u001b[1m250/250\u001b[0m \u001b[32m━━━━━━━━━━━━━━━━━━━━\u001b[0m\u001b[37m\u001b[0m \u001b[1m1s\u001b[0m 2ms/step - loss: 3.2715e-04 - val_loss: 1.5053e-05\n",
            "\u001b[1m32/32\u001b[0m \u001b[32m━━━━━━━━━━━━━━━━━━━━\u001b[0m\u001b[37m\u001b[0m \u001b[1m0s\u001b[0m 2ms/step - loss: 2.2170e-05 \n",
            "\u001b[1m1/1\u001b[0m \u001b[32m━━━━━━━━━━━━━━━━━━━━\u001b[0m\u001b[37m\u001b[0m \u001b[1m0s\u001b[0m 71ms/step\n",
            "test  data: [[10 20]\n",
            " [50 60]\n",
            " [23 45]]\n",
            "predicted sum: [[14.887622]\n",
            " [54.87474 ]\n",
            " [33.73987 ]]\n"
          ]
        }
      ]
    },
    {
      "cell_type": "markdown",
      "source": [
        "# PYTORCH"
      ],
      "metadata": {
        "id": "jKL9Pp0D7Z3T"
      }
    },
    {
      "cell_type": "code",
      "source": [
        "#addition using Pytorch\n",
        "import torch\n",
        "#create 2 arrays(tensors)\n",
        "array1=torch.tensor([1,2,3,4,5])\n",
        "array2=torch.tensor([10,20,30,40,50])\n",
        "#peform element wise addition\n",
        "result =array1+array2\n",
        "#print the arrays and their sum\n",
        "print ('Array1:',array1)\n",
        "print('Array2:',array2)\n",
        "print('sum:',result)"
      ],
      "metadata": {
        "colab": {
          "base_uri": "https://localhost:8080/"
        },
        "id": "vjMWxh09FV1K",
        "outputId": "f44b8b2c-8ee5-45bd-ee69-589c65806366"
      },
      "execution_count": 14,
      "outputs": [
        {
          "output_type": "stream",
          "name": "stdout",
          "text": [
            "Array1: tensor([1, 2, 3, 4, 5])\n",
            "Array2: tensor([10, 20, 30, 40, 50])\n",
            "sum: tensor([11, 22, 33, 44, 55])\n"
          ]
        }
      ]
    },
    {
      "cell_type": "code",
      "source": [
        "#Basic arithmetic operations\n",
        "\n",
        "a=torch.tensor([1,2,3])\n",
        "b=torch.tensor([4,5,6])\n",
        "\n",
        "#element_wise addition\n",
        "\n",
        "add_result = a+b\n",
        "\n",
        "#element_wise subtraction\n",
        "\n",
        "sub_result =a-b\n",
        "\n",
        "#element_wise multiplication\n",
        "\n",
        "mul_result =a*b\n",
        "\n",
        "#element_wise division\n",
        "\n",
        "div_result =a/b\n",
        "\n",
        "print('Addition:', add_result)\n",
        "print('Subtraction:', sub_result)\n",
        "print('Multiplication:',mul_result)\n",
        "print('Division:',div_result)\n",
        "\n",
        "\n"
      ],
      "metadata": {
        "colab": {
          "base_uri": "https://localhost:8080/"
        },
        "id": "W7w2fI34HwvX",
        "outputId": "d98f1cd3-de75-471a-fe7a-194b88e3c567"
      },
      "execution_count": 16,
      "outputs": [
        {
          "output_type": "stream",
          "name": "stdout",
          "text": [
            "Addition: tensor([5, 7, 9])\n",
            "Subtraction: tensor([-3, -3, -3])\n",
            "Multiplication: tensor([ 4, 10, 18])\n",
            "Division: tensor([0.2500, 0.4000, 0.5000])\n"
          ]
        }
      ]
    },
    {
      "cell_type": "markdown",
      "source": [
        "Matrix operations\n"
      ],
      "metadata": {
        "id": "WUzpmkGBK9Q6"
      }
    },
    {
      "cell_type": "code",
      "source": [
        "#Define two 2D tensors(matrices)\n",
        "matrix1 =torch.tensor([[1,2],[3,4]])\n",
        "matrix2 =torch.tensor([[5,6],[7,8]])\n",
        "#matrix multiplications\n",
        "\n",
        "matmul_result =torch.matmul(matrix1,matrix2)\n",
        "\n",
        "#matrix transpose\n",
        "\n",
        "transpose_result =matrix1.t()\n",
        "\n",
        "#dot productn(ID tensors)\n",
        "\n",
        "vec1 =torch.tensor([1,2])\n",
        "vec2 =torch.tensor([3,4])\n",
        "\n",
        "dot_result= torch.dot(vec1, vec2)\n",
        "\n",
        "print ('Matrix multiplication:',matmul_result)\n",
        "print('Transpose:', transpose_result)\n",
        "print('Dot product:', dot_result)"
      ],
      "metadata": {
        "colab": {
          "base_uri": "https://localhost:8080/"
        },
        "id": "ZkWkCBWEKgrt",
        "outputId": "c5a7f3f8-f1d1-4ada-b052-f697ac0a132a"
      },
      "execution_count": 18,
      "outputs": [
        {
          "output_type": "stream",
          "name": "stdout",
          "text": [
            "Matrix multiplication: tensor([[19, 22],\n",
            "        [43, 50]])\n",
            "Transpose: tensor([[1, 3],\n",
            "        [2, 4]])\n",
            "Dot product: tensor(11)\n"
          ]
        }
      ]
    },
    {
      "cell_type": "code",
      "source": [],
      "metadata": {
        "id": "TJBjEXMxOX5u"
      },
      "execution_count": null,
      "outputs": []
    }
  ]
}